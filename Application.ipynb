{
 "cells": [
  {
   "cell_type": "code",
   "execution_count": 20,
   "metadata": {},
   "outputs": [],
   "source": [
    "import pandas as pd\n",
    "import numpy as np\n",
    "import ast\n",
    "import warnings\n",
    "warnings.filterwarnings('ignore')\n",
    "\n",
    "import ipywidgets as widgets\n",
    "from IPython.core.display import display, HTML\n",
    "from IPython.display import display, clear_output"
   ]
  },
  {
   "cell_type": "code",
   "execution_count": 21,
   "metadata": {},
   "outputs": [],
   "source": [
    "top_5_up_df = pd.read_csv('Data/top_5_1980s_up.csv')\n",
    "top_5_up_df.rename(columns={'Unnamed: 0':'id'}, inplace=True)\n",
    "top_5_up_df.reset_index(inplace=True)\n",
    "top_5_up_df.drop('index', axis=1, inplace=True)\n",
    "top_5_up_df.set_index(['id','name'], inplace=True)\n",
    "#top_5_up_df.head()\n",
    "#top_5_df.shape\n",
    "\n",
    "top_5_down_df = pd.read_csv('Data/top_5_1980s_down.csv')\n",
    "top_5_down_df.rename(columns={'Unnamed: 0':'id'}, inplace=True)\n",
    "top_5_down_df.reset_index(inplace=True)\n",
    "top_5_down_df.drop('index', axis=1, inplace=True)\n",
    "top_5_down_df.set_index(['id','name'], inplace=True)\n",
    "#top_5_down_df.head()\n",
    "#top_5_df.shape\n",
    "\n",
    "top_5_df = pd.concat([top_5_up_df, top_5_down_df])\n",
    "#top_5_df.shape"
   ]
  },
  {
   "cell_type": "code",
   "execution_count": 22,
   "metadata": {},
   "outputs": [],
   "source": [
    "indices = pd.Series(top_5_df.index.get_level_values(1))\n",
    "#indices"
   ]
  },
  {
   "cell_type": "code",
   "execution_count": 23,
   "metadata": {},
   "outputs": [],
   "source": [
    "#TRY TO GET DROP DOWN LIST WITH ARTIST NAME FOR SONGS WITH SAME NAME\n",
    "def num_of_artists(name):\n",
    "    artists = []\n",
    "    name = name.lower()\n",
    "    for i in range(len(indices[indices==name])):\n",
    "        idx = indices[indices == name].index[i]\n",
    "        artists.append(top_5_df.iloc[idx][0])\n",
    "    return artists"
   ]
  },
  {
   "cell_type": "code",
   "execution_count": 24,
   "metadata": {},
   "outputs": [],
   "source": [
    "def recommendations(name, artists):\n",
    "    #INPUT A SONG RETURN\n",
    "    name = name.lower()\n",
    "    ind = 0\n",
    "    for i in range(len(indices[indices == name])):\n",
    "        if(top_5_df.iloc[indices[indices == name].index[i]][0] == artists):\n",
    "            ind = i\n",
    "    idx = indices[indices == name].index[ind]\n",
    "    #print(top_5_df.iloc[idx][0])\n",
    "    \n",
    "    top = top_5_df.iloc[idx]\n",
    "    top_5_dict = ast.literal_eval(top.top_5)\n",
    "    return top_5_dict"
   ]
  },
  {
   "cell_type": "code",
   "execution_count": 25,
   "metadata": {},
   "outputs": [
    {
     "data": {
      "text/html": [
       "<style>\n",
       "\n",
       ".box_style{\n",
       "    width:100%;\n",
       "    height:100%;\n",
       "}\n",
       "\n",
       ".head_style{\n",
       "    color:green;\n",
       "}\n",
       "\n",
       ".txt_style{\n",
       "    font-size:100px;\n",
       "}\n",
       "\n",
       ".btn_style{\n",
       "    background-color:green;\n",
       "    color:black;\n",
       "    font-size: 15px;\n",
       "    font-weight: bold;\n",
       "}\n",
       "</style>\n"
      ],
      "text/plain": [
       "<IPython.core.display.HTML object>"
      ]
     },
     "metadata": {},
     "output_type": "display_data"
    }
   ],
   "source": [
    "%%html\n",
    "<style>\n",
    "\n",
    ".box_style{\n",
    "    width:100%;\n",
    "    height:100%;\n",
    "}\n",
    "\n",
    ".head_style{\n",
    "    color:green;\n",
    "}\n",
    "\n",
    ".txt_style{\n",
    "    font-size:100px;\n",
    "}\n",
    "\n",
    ".btn_style{\n",
    "    background-color:green;\n",
    "    color:black;\n",
    "    font-size: 15px;\n",
    "    font-weight: bold;\n",
    "}\n",
    "</style>"
   ]
  },
  {
   "cell_type": "code",
   "execution_count": 26,
   "metadata": {},
   "outputs": [],
   "source": [
    "song_name = widgets.Text(description='Song Name:',placeholder='Please enter a song')\n",
    "song_name.add_class('txt_style')\n",
    "\n",
    "artists = num_of_artists(song_name.value)\n",
    "\n",
    "artist = widgets.Dropdown(\n",
    "            options=artists,\n",
    "            description='Artists Name',\n",
    "            disbaled=False)"
   ]
  },
  {
   "cell_type": "code",
   "execution_count": 27,
   "metadata": {},
   "outputs": [],
   "source": [
    "def update_song(change):\n",
    "    song_name.value = change['new']\n",
    "    artists = num_of_artists(song_name.value)\n",
    "    artist.options = artists\n",
    "song_name.observe(update_song, 'value')\n"
   ]
  },
  {
   "cell_type": "code",
   "execution_count": 28,
   "metadata": {},
   "outputs": [],
   "source": [
    "get_top_5 = widgets.Button(\n",
    "                description='Find recommended songs',\n",
    "                tooltip='Find Song',\n",
    "                layout=widgets.Layout(width='40%', height='50px'),\n",
    "                style={'description_width': 'intitial'}\n",
    "            )\n",
    "        \n",
    "get_top_5.add_class(\"btn_style\")\n",
    "\n",
    "output = widgets.Output()\n",
    "\n",
    "def on_button_clicked(event):\n",
    "    with output:\n",
    "        clear_output()\n",
    "        try:\n",
    "            top_5 = recommendations(str(song_name.value), str(artist.value))\n",
    "            display(HTML(f'<h3>Here are the top 5 recommended songs for \\\"{song_name.value}\\\" by {artist.value}</h3>'))\n",
    "            for key, value in top_5.items():\n",
    "                url = f'https://open.spotify.com/track/{key}'\n",
    "                display(HTML('<div style=font-size:large;>Song Name: <a href={}> {}</a> by: {}</div>'.format(url, value[0], value[1])))\n",
    "        except IndexError:\n",
    "            display(HTML(f'<h3>Sorry Song Not Found! Please Enter In Another Song</h3>'))\n",
    "        \n",
    "get_top_5.on_click(on_button_clicked)\n",
    "\n",
    "btn_layout = widgets.Layout(display='flex',\n",
    "                flex_flow='column',\n",
    "                align_items='center',\n",
    "                width='100%')\n",
    "\n",
    "hbox_layout = widgets.Layout(margin='10px 0px 40px 0px')\n",
    "\n",
    "hbox_result = widgets.HBox([song_name, artist], layout=hbox_layout)\n",
    "vbox_result = widgets.VBox([hbox_result, get_top_5, output], layout=btn_layout)"
   ]
  },
  {
   "cell_type": "code",
   "execution_count": 29,
   "metadata": {},
   "outputs": [],
   "source": [
    "text_0 = widgets.HTML(value='<h1 style=font-size:50px;>Jacob\\'s Jukebox</h1>')\n",
    "text_1 = widgets.HTML(value='<h1 style=color:green>Enter in a song to find the top 5 recommended songs!</h1>')\n",
    "text_2 = widgets.HTML(value='<p style=font-size:20px;>Songs are recommended based on the metrics acousticness, danceability, energy,\\\n",
    "                      instrumentalness, liveness, loudness, speechiness, tempo, and valence using cosine similarity.</p>')\n",
    "\n",
    "text_0.add_class('head_style')\n",
    "text_2.add_class('head_style')\n",
    "box_layout = widgets.Layout(display='flex',\n",
    "                flex_flow='column',\n",
    "                align_items='center',\n",
    "                width='100%')\n",
    "\n",
    "vbox_text = widgets.VBox([text_0, text_2, text_1], layout=box_layout)\n",
    "vbox_output=widgets.VBox([vbox_text, vbox_result])"
   ]
  },
  {
   "cell_type": "code",
   "execution_count": 30,
   "metadata": {},
   "outputs": [
    {
     "data": {
      "application/vnd.jupyter.widget-view+json": {
       "model_id": "e9320cb88d914caf9cccf95277bdc1a6",
       "version_major": 2,
       "version_minor": 0
      },
      "text/plain": [
       "HBox(children=(VBox(children=(VBox(children=(HTML(value=\"<h1 style=font-size:50px;>Jacob's Jukebox</h1>\", _dom…"
      ]
     },
     "metadata": {},
     "output_type": "display_data"
    }
   ],
   "source": [
    "page = widgets.HBox([vbox_output], layout=box_layout)\n",
    "page.add_class(\"box_style\")\n",
    "display(page)"
   ]
  },
  {
   "cell_type": "code",
   "execution_count": null,
   "metadata": {},
   "outputs": [],
   "source": []
  },
  {
   "cell_type": "code",
   "execution_count": null,
   "metadata": {},
   "outputs": [],
   "source": []
  }
 ],
 "metadata": {
  "kernelspec": {
   "display_name": "Python 3",
   "language": "python",
   "name": "python3"
  },
  "language_info": {
   "codemirror_mode": {
    "name": "ipython",
    "version": 3
   },
   "file_extension": ".py",
   "mimetype": "text/x-python",
   "name": "python",
   "nbconvert_exporter": "python",
   "pygments_lexer": "ipython3",
   "version": "3.8.8"
  }
 },
 "nbformat": 4,
 "nbformat_minor": 4
}
