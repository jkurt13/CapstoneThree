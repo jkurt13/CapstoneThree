{
 "cells": [
  {
   "cell_type": "code",
   "execution_count": 1,
   "metadata": {},
   "outputs": [],
   "source": [
    "import pandas as pd\n",
    "import numpy as np\n",
    "import ast"
   ]
  },
  {
   "cell_type": "code",
   "execution_count": 49,
   "metadata": {},
   "outputs": [
    {
     "data": {
      "text/plain": [
       "(72230, 2)"
      ]
     },
     "execution_count": 49,
     "metadata": {},
     "output_type": "execute_result"
    }
   ],
   "source": [
    "top_5_df = pd.read_csv('Data/top_5_df.csv')\n",
    "top_5_df.rename(columns={'Unnamed: 0':'id'}, inplace=True)\n",
    "top_5_df.reset_index(inplace=True)\n",
    "top_5_df.drop('index', axis=1, inplace=True)\n",
    "top_5_df.set_index(['id','name'], inplace=True)\n",
    "#print(top_5_df.iloc[1][1])\n",
    "top_5_df.shape"
   ]
  },
  {
   "cell_type": "code",
   "execution_count": 3,
   "metadata": {},
   "outputs": [],
   "source": [
    "indices = pd.Series(top_5_df.index.get_level_values(1))\n",
    "#indices"
   ]
  },
  {
   "cell_type": "code",
   "execution_count": 4,
   "metadata": {},
   "outputs": [],
   "source": [
    "#TRY TO GET DROP DOWN LIST WITH ARTIST NAME FOR SONGS WITH SAME NAME\n",
    "def num_of_artists(name):\n",
    "    artists = []\n",
    "    name = name.lower()\n",
    "    for i in range(len(indices[indices==name])):\n",
    "        idx = indices[indices == name].index[i]\n",
    "        artists.append(top_5_df.iloc[idx][0])\n",
    "    return artists"
   ]
  },
  {
   "cell_type": "code",
   "execution_count": 17,
   "metadata": {},
   "outputs": [],
   "source": [
    "def recommendations(name, artists):\n",
    "    #INPUT A SONG RETURN\n",
    "    name = name.lower()\n",
    "    ind = 0\n",
    "    for i in range(len(indices[indices == name])):\n",
    "        if(top_5_df.iloc[indices[indices == name].index[i]][0] == artists):\n",
    "            ind = i\n",
    "    idx = indices[indices == name].index[ind]\n",
    "    #print(top_5_df.iloc[idx][0])\n",
    "    \n",
    "    top = top_5_df.iloc[idx]\n",
    "    top_5_dict = ast.literal_eval(top.top_5)\n",
    "    return top_5_dict"
   ]
  },
  {
   "cell_type": "code",
   "execution_count": 18,
   "metadata": {},
   "outputs": [],
   "source": [
    "#snow = recommendations('one time', 'Justin Bieber')\n",
    "#for key, value in snow.items():\n",
    " #   print(key, value[0])"
   ]
  },
  {
   "cell_type": "code",
   "execution_count": 19,
   "metadata": {},
   "outputs": [],
   "source": [
    "import warnings\n",
    "warnings.filterwarnings('ignore')\n",
    "\n",
    "import ipywidgets as widgets\n",
    "from IPython.core.display import display, HTML\n",
    "from IPython.display import display, clear_output"
   ]
  },
  {
   "cell_type": "code",
   "execution_count": 20,
   "metadata": {},
   "outputs": [],
   "source": [
    "#!jupyter nbextension enable --py widgetsnbextension --sys-prefix\n",
    "#!jupyter serverextension enable --sys-prefix voila"
   ]
  },
  {
   "cell_type": "code",
   "execution_count": 21,
   "metadata": {},
   "outputs": [],
   "source": [
    "song_name = widgets.Text(placeholder='Please enter a song')"
   ]
  },
  {
   "cell_type": "code",
   "execution_count": 22,
   "metadata": {},
   "outputs": [],
   "source": [
    "artists = num_of_artists(song_name.value)"
   ]
  },
  {
   "cell_type": "code",
   "execution_count": 23,
   "metadata": {},
   "outputs": [],
   "source": [
    "artist = widgets.Dropdown(\n",
    "            options=artists,\n",
    "            description='Artists Name',\n",
    "            disbaled=False)"
   ]
  },
  {
   "cell_type": "code",
   "execution_count": 24,
   "metadata": {},
   "outputs": [],
   "source": [
    "def update_song(change):\n",
    "    song_name.value = change['new']\n",
    "    artists = num_of_artists(song_name.value)\n",
    "    artist.options = artists\n",
    "song_name.observe(update_song, 'value')\n"
   ]
  },
  {
   "cell_type": "code",
   "execution_count": 45,
   "metadata": {},
   "outputs": [],
   "source": [
    "get_top_5 = widgets.Button(\n",
    "                description='Find recommended songs',\n",
    "                tooltip='Find Song',\n",
    "                layout=widgets.Layout(width='30%'),\n",
    "                style={'description_width': 'intitial'}\n",
    "            )\n",
    "output = widgets.Output(layout=widgets.Layout(width='100%'))\n",
    "\n",
    "def on_button_clicked(event):\n",
    "    with output:\n",
    "        clear_output()\n",
    "        try:\n",
    "            top_5 = recommendations(str(song_name.value), str(artist.value))\n",
    "            display(HTML(f'<h3>Here are the top 5 recommended songs for {song_name.value} by {artist.value}</h3>'))\n",
    "            for key, value in top_5.items():\n",
    "                url = f'https://open.spotify.com/track/{key}'\n",
    "                display(HTML('<a href={}>{},{}</a>'.format(url, value[1], value[0])))\n",
    "        except IndexError:\n",
    "            display(HTML(f'<h3>Sorry Song Not Found! Please Enter in another Song</h3>'))\n",
    "        \n",
    "get_top_5.on_click(on_button_clicked)\n",
    "\n",
    "vbox_result = widgets.VBox([get_top_5, output])"
   ]
  },
  {
   "cell_type": "code",
   "execution_count": 46,
   "metadata": {},
   "outputs": [],
   "source": [
    "hbox_result = widgets.HBox([song_name, artist])"
   ]
  },
  {
   "cell_type": "code",
   "execution_count": 47,
   "metadata": {},
   "outputs": [],
   "source": [
    "text_0 = widgets.HTML(value='<h1>Jacob\\'s Jukebox<h1>', layout=widgets.Layout(align_content='center'))\n",
    "text_1 = widgets.HTML(value='<h2>Enter in a song to find the top 5 recommended songs!')\n",
    "\n",
    "vbox_text = widgets.VBox([text_0, text_1, hbox_result, vbox_result], layout=widgets.Layout(align_content='center'))"
   ]
  },
  {
   "cell_type": "code",
   "execution_count": 48,
   "metadata": {},
   "outputs": [
    {
     "data": {
      "application/vnd.jupyter.widget-view+json": {
       "model_id": "cc785d685a5a454ab91bfb55cedd514e",
       "version_major": 2,
       "version_minor": 0
      },
      "text/plain": [
       "HBox(children=(VBox(children=(HTML(value=\"<h1>Jacob's Jukebox<h1>\", layout=Layout(align_content='center')), HT…"
      ]
     },
     "metadata": {},
     "output_type": "display_data"
    }
   ],
   "source": [
    "page = widgets.HBox([vbox_text], layout=widgets.Layout(align_content= 'center'))\n",
    "display(page)"
   ]
  },
  {
   "cell_type": "code",
   "execution_count": null,
   "metadata": {},
   "outputs": [],
   "source": []
  },
  {
   "cell_type": "code",
   "execution_count": null,
   "metadata": {},
   "outputs": [],
   "source": []
  }
 ],
 "metadata": {
  "kernelspec": {
   "display_name": "Python 3",
   "language": "python",
   "name": "python3"
  },
  "language_info": {
   "codemirror_mode": {
    "name": "ipython",
    "version": 3
   },
   "file_extension": ".py",
   "mimetype": "text/x-python",
   "name": "python",
   "nbconvert_exporter": "python",
   "pygments_lexer": "ipython3",
   "version": "3.8.8"
  }
 },
 "nbformat": 4,
 "nbformat_minor": 4
}
