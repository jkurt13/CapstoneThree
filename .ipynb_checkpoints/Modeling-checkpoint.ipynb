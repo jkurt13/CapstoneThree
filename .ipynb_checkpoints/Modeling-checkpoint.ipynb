{
 "cells": [
  {
   "cell_type": "code",
   "execution_count": 1,
   "metadata": {},
   "outputs": [],
   "source": [
    "import pandas as pd\n",
    "import numpy as np"
   ]
  },
  {
   "cell_type": "code",
   "execution_count": 40,
   "metadata": {},
   "outputs": [
    {
     "data": {
      "text/html": [
       "<div>\n",
       "<style scoped>\n",
       "    .dataframe tbody tr th:only-of-type {\n",
       "        vertical-align: middle;\n",
       "    }\n",
       "\n",
       "    .dataframe tbody tr th {\n",
       "        vertical-align: top;\n",
       "    }\n",
       "\n",
       "    .dataframe thead th {\n",
       "        text-align: right;\n",
       "    }\n",
       "</style>\n",
       "<table border=\"1\" class=\"dataframe\">\n",
       "  <thead>\n",
       "    <tr style=\"text-align: right;\">\n",
       "      <th></th>\n",
       "      <th>name</th>\n",
       "      <th>artists</th>\n",
       "      <th>year</th>\n",
       "      <th>explicit</th>\n",
       "      <th>popularity</th>\n",
       "      <th>duration_ms</th>\n",
       "      <th>acousticness</th>\n",
       "      <th>danceability</th>\n",
       "      <th>energy</th>\n",
       "      <th>instrumentalness</th>\n",
       "      <th>liveness</th>\n",
       "      <th>loudness</th>\n",
       "      <th>mode</th>\n",
       "      <th>key</th>\n",
       "      <th>speechiness</th>\n",
       "      <th>tempo</th>\n",
       "      <th>valence</th>\n",
       "      <th>genres</th>\n",
       "    </tr>\n",
       "    <tr>\n",
       "      <th>id</th>\n",
       "      <th></th>\n",
       "      <th></th>\n",
       "      <th></th>\n",
       "      <th></th>\n",
       "      <th></th>\n",
       "      <th></th>\n",
       "      <th></th>\n",
       "      <th></th>\n",
       "      <th></th>\n",
       "      <th></th>\n",
       "      <th></th>\n",
       "      <th></th>\n",
       "      <th></th>\n",
       "      <th></th>\n",
       "      <th></th>\n",
       "      <th></th>\n",
       "      <th></th>\n",
       "      <th></th>\n",
       "    </tr>\n",
       "  </thead>\n",
       "  <tbody>\n",
       "    <tr>\n",
       "      <th>0cS0A1fUEUd1EW3FcF8AEI</th>\n",
       "      <td>keep a song in your soul</td>\n",
       "      <td>Mamie Smith</td>\n",
       "      <td>1920</td>\n",
       "      <td>0</td>\n",
       "      <td>12</td>\n",
       "      <td>168333</td>\n",
       "      <td>0.991000</td>\n",
       "      <td>0.598</td>\n",
       "      <td>0.224</td>\n",
       "      <td>0.000522</td>\n",
       "      <td>0.3790</td>\n",
       "      <td>-12.628</td>\n",
       "      <td>0</td>\n",
       "      <td>F</td>\n",
       "      <td>0.0936</td>\n",
       "      <td>149.976</td>\n",
       "      <td>0.6340</td>\n",
       "      <td>['harlem renaissance', 'traditional blues']</td>\n",
       "    </tr>\n",
       "    <tr>\n",
       "      <th>0hbkKFIJm7Z05H8Zl9w30f</th>\n",
       "      <td>i put a spell on you</td>\n",
       "      <td>Screamin' Jay Hawkins</td>\n",
       "      <td>1920</td>\n",
       "      <td>0</td>\n",
       "      <td>7</td>\n",
       "      <td>150200</td>\n",
       "      <td>0.643000</td>\n",
       "      <td>0.852</td>\n",
       "      <td>0.517</td>\n",
       "      <td>0.026400</td>\n",
       "      <td>0.0809</td>\n",
       "      <td>-7.261</td>\n",
       "      <td>0</td>\n",
       "      <td>F</td>\n",
       "      <td>0.0534</td>\n",
       "      <td>86.889</td>\n",
       "      <td>0.9500</td>\n",
       "      <td>['blues', 'traditional blues']</td>\n",
       "    </tr>\n",
       "    <tr>\n",
       "      <th>11m7laMUgmOKqI3oYzuhne</th>\n",
       "      <td>golfing papa</td>\n",
       "      <td>Mamie Smith</td>\n",
       "      <td>1920</td>\n",
       "      <td>0</td>\n",
       "      <td>4</td>\n",
       "      <td>163827</td>\n",
       "      <td>0.993000</td>\n",
       "      <td>0.647</td>\n",
       "      <td>0.186</td>\n",
       "      <td>0.000018</td>\n",
       "      <td>0.5190</td>\n",
       "      <td>-12.098</td>\n",
       "      <td>1</td>\n",
       "      <td>C</td>\n",
       "      <td>0.1740</td>\n",
       "      <td>97.600</td>\n",
       "      <td>0.6890</td>\n",
       "      <td>['harlem renaissance', 'traditional blues']</td>\n",
       "    </tr>\n",
       "    <tr>\n",
       "      <th>19Lc5SfJJ5O1oaxY0fpwfh</th>\n",
       "      <td>true house music - xavier santos &amp; carlos gomi...</td>\n",
       "      <td>Oscar Velazquez</td>\n",
       "      <td>1920</td>\n",
       "      <td>0</td>\n",
       "      <td>17</td>\n",
       "      <td>422087</td>\n",
       "      <td>0.000173</td>\n",
       "      <td>0.730</td>\n",
       "      <td>0.798</td>\n",
       "      <td>0.801000</td>\n",
       "      <td>0.1280</td>\n",
       "      <td>-7.311</td>\n",
       "      <td>1</td>\n",
       "      <td>D</td>\n",
       "      <td>0.0425</td>\n",
       "      <td>127.997</td>\n",
       "      <td>0.0422</td>\n",
       "      <td>['circuit']</td>\n",
       "    </tr>\n",
       "    <tr>\n",
       "      <th>2hJjbsLCytGsnAHfdsLejp</th>\n",
       "      <td>xuniverxe</td>\n",
       "      <td>Mixe</td>\n",
       "      <td>1920</td>\n",
       "      <td>1</td>\n",
       "      <td>2</td>\n",
       "      <td>165224</td>\n",
       "      <td>0.295000</td>\n",
       "      <td>0.704</td>\n",
       "      <td>0.707</td>\n",
       "      <td>0.000246</td>\n",
       "      <td>0.4020</td>\n",
       "      <td>-6.036</td>\n",
       "      <td>0</td>\n",
       "      <td>A#</td>\n",
       "      <td>0.0768</td>\n",
       "      <td>122.076</td>\n",
       "      <td>0.2990</td>\n",
       "      <td>['glitchcore']</td>\n",
       "    </tr>\n",
       "  </tbody>\n",
       "</table>\n",
       "</div>"
      ],
      "text/plain": [
       "                                                                     name  \\\n",
       "id                                                                          \n",
       "0cS0A1fUEUd1EW3FcF8AEI                           keep a song in your soul   \n",
       "0hbkKFIJm7Z05H8Zl9w30f                               i put a spell on you   \n",
       "11m7laMUgmOKqI3oYzuhne                                       golfing papa   \n",
       "19Lc5SfJJ5O1oaxY0fpwfh  true house music - xavier santos & carlos gomi...   \n",
       "2hJjbsLCytGsnAHfdsLejp                                          xuniverxe   \n",
       "\n",
       "                                      artists  year  explicit  popularity  \\\n",
       "id                                                                          \n",
       "0cS0A1fUEUd1EW3FcF8AEI            Mamie Smith  1920         0          12   \n",
       "0hbkKFIJm7Z05H8Zl9w30f  Screamin' Jay Hawkins  1920         0           7   \n",
       "11m7laMUgmOKqI3oYzuhne            Mamie Smith  1920         0           4   \n",
       "19Lc5SfJJ5O1oaxY0fpwfh        Oscar Velazquez  1920         0          17   \n",
       "2hJjbsLCytGsnAHfdsLejp                   Mixe  1920         1           2   \n",
       "\n",
       "                        duration_ms  acousticness  danceability  energy  \\\n",
       "id                                                                        \n",
       "0cS0A1fUEUd1EW3FcF8AEI       168333      0.991000         0.598   0.224   \n",
       "0hbkKFIJm7Z05H8Zl9w30f       150200      0.643000         0.852   0.517   \n",
       "11m7laMUgmOKqI3oYzuhne       163827      0.993000         0.647   0.186   \n",
       "19Lc5SfJJ5O1oaxY0fpwfh       422087      0.000173         0.730   0.798   \n",
       "2hJjbsLCytGsnAHfdsLejp       165224      0.295000         0.704   0.707   \n",
       "\n",
       "                        instrumentalness  liveness  loudness  mode key  \\\n",
       "id                                                                       \n",
       "0cS0A1fUEUd1EW3FcF8AEI          0.000522    0.3790   -12.628     0   F   \n",
       "0hbkKFIJm7Z05H8Zl9w30f          0.026400    0.0809    -7.261     0   F   \n",
       "11m7laMUgmOKqI3oYzuhne          0.000018    0.5190   -12.098     1   C   \n",
       "19Lc5SfJJ5O1oaxY0fpwfh          0.801000    0.1280    -7.311     1   D   \n",
       "2hJjbsLCytGsnAHfdsLejp          0.000246    0.4020    -6.036     0  A#   \n",
       "\n",
       "                        speechiness    tempo  valence  \\\n",
       "id                                                      \n",
       "0cS0A1fUEUd1EW3FcF8AEI       0.0936  149.976   0.6340   \n",
       "0hbkKFIJm7Z05H8Zl9w30f       0.0534   86.889   0.9500   \n",
       "11m7laMUgmOKqI3oYzuhne       0.1740   97.600   0.6890   \n",
       "19Lc5SfJJ5O1oaxY0fpwfh       0.0425  127.997   0.0422   \n",
       "2hJjbsLCytGsnAHfdsLejp       0.0768  122.076   0.2990   \n",
       "\n",
       "                                                             genres  \n",
       "id                                                                   \n",
       "0cS0A1fUEUd1EW3FcF8AEI  ['harlem renaissance', 'traditional blues']  \n",
       "0hbkKFIJm7Z05H8Zl9w30f               ['blues', 'traditional blues']  \n",
       "11m7laMUgmOKqI3oYzuhne  ['harlem renaissance', 'traditional blues']  \n",
       "19Lc5SfJJ5O1oaxY0fpwfh                                  ['circuit']  \n",
       "2hJjbsLCytGsnAHfdsLejp                               ['glitchcore']  "
      ]
     },
     "execution_count": 40,
     "metadata": {},
     "output_type": "execute_result"
    }
   ],
   "source": [
    "songs_df = pd.read_csv('Data/songs_w_genres_df.csv', index_col='id')\n",
    "songs_df.head()"
   ]
  },
  {
   "cell_type": "code",
   "execution_count": 3,
   "metadata": {},
   "outputs": [],
   "source": [
    "songs_df.genres = songs_df.genres.str[1:-1]\n",
    "#songs_df.head()"
   ]
  },
  {
   "cell_type": "code",
   "execution_count": 4,
   "metadata": {},
   "outputs": [],
   "source": [
    "songs_df = songs_df.astype({'acousticness': 'float32', 'danceability': 'float32', 'energy': 'float32', \n",
    "                            'instrumentalness': 'float32', 'liveness': 'float32', 'loudness': 'float32', \n",
    "                            'speechiness': 'float32', 'tempo': 'float32', 'valence': 'float32',})"
   ]
  },
  {
   "cell_type": "code",
   "execution_count": 5,
   "metadata": {},
   "outputs": [],
   "source": [
    "#songs_df.info()"
   ]
  },
  {
   "cell_type": "code",
   "execution_count": 6,
   "metadata": {},
   "outputs": [],
   "source": [
    "top_5_df = pd.read_csv('Data/top_5_df.csv')\n",
    "top_5_df.rename(columns={'Unnamed: 0':'id'}, inplace=True)\n",
    "top_5_df.reset_index(inplace=True)\n",
    "top_5_df.drop('index', axis=1, inplace=True)\n",
    "top_5_df.set_index('id', inplace=True)\n",
    "#top_5_df"
   ]
  },
  {
   "cell_type": "code",
   "execution_count": 7,
   "metadata": {},
   "outputs": [],
   "source": [
    "songs_1980s_up = songs_df[songs_df['year'] > 1980]\n",
    "#songs_1980s_up.year.unique()"
   ]
  },
  {
   "cell_type": "code",
   "execution_count": 8,
   "metadata": {},
   "outputs": [],
   "source": [
    "songs_1980s_up.reset_index(inplace=True)\n",
    "songs_1980s_up.set_index(['id','name'], inplace=True)"
   ]
  },
  {
   "cell_type": "code",
   "execution_count": 9,
   "metadata": {},
   "outputs": [],
   "source": [
    "numerical_songs = songs_1980s_up.select_dtypes(include=['float32'])\n",
    "#numerical_songs.info()"
   ]
  },
  {
   "cell_type": "code",
   "execution_count": 10,
   "metadata": {},
   "outputs": [],
   "source": [
    "from sklearn.metrics.pairwise import cosine_similarity\n",
    "from sklearn.preprocessing import MinMaxScaler"
   ]
  },
  {
   "cell_type": "code",
   "execution_count": 11,
   "metadata": {},
   "outputs": [],
   "source": [
    "scaler = MinMaxScaler()\n",
    "df_scaled = pd.DataFrame(scaler.fit_transform(numerical_songs), columns=numerical_songs.columns, index=numerical_songs.index)\n",
    "#df_scaled.head()"
   ]
  },
  {
   "cell_type": "code",
   "execution_count": 12,
   "metadata": {},
   "outputs": [],
   "source": [
    "indices = pd.Series(df_scaled.index.get_level_values(1))\n",
    "#indices"
   ]
  },
  {
   "cell_type": "code",
   "execution_count": 13,
   "metadata": {},
   "outputs": [],
   "source": [
    "# Cosine Similarity"
   ]
  },
  {
   "cell_type": "code",
   "execution_count": 14,
   "metadata": {},
   "outputs": [],
   "source": [
    "songs_1980s_up_scaled = df_scaled[['acousticness', 'danceability', 'energy', 'instrumentalness', 'liveness', \n",
    "                                        'loudness', 'speechiness', 'tempo', 'valence']]\n",
    "cosine_sim = cosine_similarity(songs_1980s_up_scaled, songs_1980s_up_scaled)\n",
    "#cosine_sim"
   ]
  },
  {
   "cell_type": "code",
   "execution_count": 15,
   "metadata": {},
   "outputs": [],
   "source": [
    "#TRY TO GET DROP DOWN LIST WITH ARTIST NAME FOR SONGS WITH SAME NAME\n",
    "def num_of_artists(name):\n",
    "    artists = []\n",
    "    name = name.lower()\n",
    "    for i in range(len(indices[indices==name])):\n",
    "        idx = indices[indices == name].index[i]\n",
    "        artists.append(songs_1980s_up.iloc[idx][0])\n",
    "    return artists"
   ]
  },
  {
   "cell_type": "code",
   "execution_count": 16,
   "metadata": {},
   "outputs": [],
   "source": [
    "def recommendations(name, artists, cosine_sim=cosine_sim):\n",
    "    #INPUT A SONG RETURN\n",
    "    name = name.lower()\n",
    "    ind = 0\n",
    "    for i in range(len(indices[indices == name])):\n",
    "        if(songs_1980s_up.iloc[indices[indices == name].index[i]][0] == artists):\n",
    "            ind = i\n",
    "    idx = indices[indices == name].index[ind]\n",
    "    print(songs_1980s_up.iloc[idx][0])\n",
    "    similarity_scores = list(enumerate(cosine_sim[idx]))\n",
    "    similarity_scores = sorted(similarity_scores, key=lambda x: x[1], reverse=True)\n",
    "    similarity_scores = similarity_scores[1:6]\n",
    "    \n",
    "    songs_index = [i[0] for i in similarity_scores]\n",
    "    \n",
    "    return songs_1980s_up.iloc[songs_index, [0]]"
   ]
  },
  {
   "cell_type": "code",
   "execution_count": 17,
   "metadata": {},
   "outputs": [],
   "source": [
    "#recommendations('snowman', 'Sia', cosine_sim)"
   ]
  },
  {
   "cell_type": "code",
   "execution_count": 28,
   "metadata": {},
   "outputs": [],
   "source": [
    "import warnings\n",
    "warnings.filterwarnings('ignore')\n",
    "\n",
    "import ipywidgets as widgets\n",
    "from IPython.core.display import display, HTML\n",
    "from IPython.display import display, clear_output"
   ]
  },
  {
   "cell_type": "code",
   "execution_count": 19,
   "metadata": {},
   "outputs": [
    {
     "name": "stderr",
     "output_type": "stream",
     "text": [
      "Enabling notebook extension jupyter-js-widgets/extension...\n",
      "      - Validating: ok\n",
      "Enabling: voila\n",
      "- Writing config: C:\\Users\\vtkurt13\\anaconda3\\etc\\jupyter\n",
      "    - Validating...\n",
      "      voila 0.2.7 ok\n"
     ]
    }
   ],
   "source": [
    "!jupyter nbextension enable --py widgetsnbextension --sys-prefix\n",
    "!jupyter serverextension enable --sys-prefix voila"
   ]
  },
  {
   "cell_type": "code",
   "execution_count": 20,
   "metadata": {},
   "outputs": [],
   "source": [
    "song_name = widgets.Text(placeholder='Please enter a song')"
   ]
  },
  {
   "cell_type": "code",
   "execution_count": 21,
   "metadata": {},
   "outputs": [],
   "source": [
    "artists = num_of_artists(song_name.value)"
   ]
  },
  {
   "cell_type": "code",
   "execution_count": 22,
   "metadata": {},
   "outputs": [],
   "source": [
    "artist = widgets.Dropdown(\n",
    "            options=artists,\n",
    "            description='Artists Name',\n",
    "            disbaled=False)"
   ]
  },
  {
   "cell_type": "code",
   "execution_count": 23,
   "metadata": {},
   "outputs": [],
   "source": [
    "def update_song(change):\n",
    "    song_name.value = change['new']\n",
    "    artists = num_of_artists(song_name.value)\n",
    "    artist.options = artists\n",
    "song_name.observe(update_song, 'value')\n"
   ]
  },
  {
   "cell_type": "code",
   "execution_count": 43,
   "metadata": {},
   "outputs": [],
   "source": [
    "get_top_5 = widgets.Button(\n",
    "                description='Find recommended songs',\n",
    "                tooltip='Find Song',\n",
    "                layout=widgets.Layout(width='30%'),\n",
    "                style={'description_width': 'intitial'}\n",
    "            )\n",
    "output = widgets.Output(layout=widgets.Layout(width='100%'))\n",
    "\n",
    "def on_button_clicked(event):\n",
    "    with output:\n",
    "        clear_output()\n",
    "        top_5 = recommendations(str(song_name.value), str(artist.value), cosine_sim)\n",
    "        top_5.reset_index(inplace=True)\n",
    "        top_5['url'] = ''\n",
    "        print(f'Here are the top 5 recommended songs for {song_name.value} by {artist.value}')\n",
    "\n",
    "        for i in range(len(top_5)):\n",
    "            url = f'https://open.spotify.com/track/{top_5.iloc[i][0]}'\n",
    "            #print(url)\n",
    "            top_5.url[i] = url\n",
    "        for i in range(len(top_5)):\n",
    "            display(HTML('<a href={}>{},{}</a>'.format(top_5.iloc[i]['url'],top_5.iloc[i]['artists'],top_5.iloc[i]['name'])))\n",
    "        print(top_5)\n",
    "        \n",
    "get_top_5.on_click(on_button_clicked)\n",
    "\n",
    "vbox_result = widgets.VBox([get_top_5, output])"
   ]
  },
  {
   "cell_type": "code",
   "execution_count": 44,
   "metadata": {},
   "outputs": [],
   "source": [
    "hbox_result = widgets.HBox([song_name, artist])"
   ]
  },
  {
   "cell_type": "code",
   "execution_count": 45,
   "metadata": {},
   "outputs": [],
   "source": [
    "text_0 = widgets.HTML(value='<h1>Jacob\\'s Jukebox<h1>', layout=widgets.Layout(align_content='center'))\n",
    "text_1 = widgets.HTML(value='<h2>Enter in a song to find the top 5 recommended songs!')\n",
    "\n",
    "vbox_text = widgets.VBox([text_0, text_1, hbox_result, vbox_result], layout=widgets.Layout(align_content='center'))"
   ]
  },
  {
   "cell_type": "code",
   "execution_count": 46,
   "metadata": {
    "scrolled": false
   },
   "outputs": [
    {
     "data": {
      "application/vnd.jupyter.widget-view+json": {
       "model_id": "d01686eacbd14eb8abc8ad19aae4b080",
       "version_major": 2,
       "version_minor": 0
      },
      "text/plain": [
       "HBox(children=(VBox(children=(HTML(value=\"<h1>Jacob's Jukebox<h1>\", layout=Layout(align_content='center')), HT…"
      ]
     },
     "metadata": {},
     "output_type": "display_data"
    }
   ],
   "source": [
    "page = widgets.HBox([vbox_text], layout=widgets.Layout(align_content= 'center'))\n",
    "display(page)"
   ]
  },
  {
   "cell_type": "code",
   "execution_count": null,
   "metadata": {},
   "outputs": [],
   "source": [
    "display(HTML('<a href={}>{},{}</a>'.format{songs_df.iloc[i]['url],song_df.iloc[i]['artist],song-df.iloc[i]['song']}))"
   ]
  },
  {
   "cell_type": "code",
   "execution_count": null,
   "metadata": {},
   "outputs": [],
   "source": []
  }
 ],
 "metadata": {
  "kernelspec": {
   "display_name": "Python 3",
   "language": "python",
   "name": "python3"
  },
  "language_info": {
   "codemirror_mode": {
    "name": "ipython",
    "version": 3
   },
   "file_extension": ".py",
   "mimetype": "text/x-python",
   "name": "python",
   "nbconvert_exporter": "python",
   "pygments_lexer": "ipython3",
   "version": "3.8.8"
  }
 },
 "nbformat": 4,
 "nbformat_minor": 4
}
