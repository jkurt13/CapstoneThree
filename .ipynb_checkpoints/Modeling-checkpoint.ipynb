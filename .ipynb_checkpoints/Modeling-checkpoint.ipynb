{
 "cells": [
  {
   "cell_type": "code",
   "execution_count": 1,
   "metadata": {},
   "outputs": [],
   "source": [
    "import pandas as pd\n",
    "import numpy as np"
   ]
  },
  {
   "cell_type": "code",
   "execution_count": 2,
   "metadata": {},
   "outputs": [],
   "source": [
    "songs_df = pd.read_csv('Data/songs_w_genres_df.csv', index_col='id')\n",
    "#songs_df.head()"
   ]
  },
  {
   "cell_type": "code",
   "execution_count": 3,
   "metadata": {},
   "outputs": [],
   "source": [
    "songs_df.genres = songs_df.genres.str[1:-1]\n",
    "#songs_df.head()"
   ]
  },
  {
   "cell_type": "code",
   "execution_count": 4,
   "metadata": {},
   "outputs": [],
   "source": [
    "songs_df = songs_df.astype({'acousticness': 'float32', 'danceability': 'float32', 'energy': 'float32', \n",
    "                            'instrumentalness': 'float32', 'liveness': 'float32', 'loudness': 'float32', \n",
    "                            'speechiness': 'float32', 'tempo': 'float32', 'valence': 'float32',})"
   ]
  },
  {
   "cell_type": "code",
   "execution_count": 5,
   "metadata": {},
   "outputs": [],
   "source": [
    "#songs_df.info()"
   ]
  },
  {
   "cell_type": "code",
   "execution_count": 6,
   "metadata": {},
   "outputs": [],
   "source": [
    "top_5_df = pd.read_csv('Data/top_5_df.csv')\n",
    "top_5_df.rename(columns={'Unnamed: 0':'id'}, inplace=True)\n",
    "top_5_df.reset_index(inplace=True)\n",
    "top_5_df.drop('index', axis=1, inplace=True)\n",
    "top_5_df.set_index('id', inplace=True)\n",
    "#top_5_df"
   ]
  },
  {
   "cell_type": "code",
   "execution_count": 7,
   "metadata": {},
   "outputs": [],
   "source": [
    "songs_1980s_up = songs_df[songs_df['year'] > 1980]\n",
    "#songs_1980s_up.year.unique()"
   ]
  },
  {
   "cell_type": "code",
   "execution_count": 8,
   "metadata": {},
   "outputs": [],
   "source": [
    "songs_1980s_up.reset_index(inplace=True)\n",
    "songs_1980s_up.set_index(['id','name'], inplace=True)"
   ]
  },
  {
   "cell_type": "code",
   "execution_count": 9,
   "metadata": {},
   "outputs": [],
   "source": [
    "numerical_songs = songs_1980s_up.select_dtypes(include=['float32'])\n",
    "#numerical_songs.info()"
   ]
  },
  {
   "cell_type": "code",
   "execution_count": 10,
   "metadata": {},
   "outputs": [],
   "source": [
    "from sklearn.metrics.pairwise import cosine_similarity\n",
    "from sklearn.preprocessing import MinMaxScaler"
   ]
  },
  {
   "cell_type": "code",
   "execution_count": 11,
   "metadata": {},
   "outputs": [],
   "source": [
    "scaler = MinMaxScaler()\n",
    "df_scaled = pd.DataFrame(scaler.fit_transform(numerical_songs), columns=numerical_songs.columns, index=numerical_songs.index)\n",
    "#df_scaled.head()"
   ]
  },
  {
   "cell_type": "code",
   "execution_count": 12,
   "metadata": {},
   "outputs": [],
   "source": [
    "indices = pd.Series(df_scaled.index.get_level_values(1))\n",
    "#indices"
   ]
  },
  {
   "cell_type": "code",
   "execution_count": 13,
   "metadata": {},
   "outputs": [],
   "source": [
    "# Cosine Similarity"
   ]
  },
  {
   "cell_type": "code",
   "execution_count": 14,
   "metadata": {},
   "outputs": [],
   "source": [
    "songs_1980s_up_scaled = df_scaled[['acousticness', 'danceability', 'energy', 'instrumentalness', 'liveness', \n",
    "                                        'loudness', 'speechiness', 'tempo', 'valence']]\n",
    "cosine_sim = cosine_similarity(songs_1980s_up_scaled, songs_1980s_up_scaled)\n",
    "#cosine_sim"
   ]
  },
  {
   "cell_type": "code",
   "execution_count": 15,
   "metadata": {},
   "outputs": [],
   "source": [
    "#TRY TO GET DROP DOWN LIST WITH ARTIST NAME FOR SONGS WITH SAME NAME\n",
    "def num_of_artists(name):\n",
    "    name = name.lower()\n",
    "    for i in range(len(indices[indices==name])):\n",
    "        idx = indices[indices == name].index[i]\n",
    "        print(i)\n",
    "    "
   ]
  },
  {
   "cell_type": "code",
   "execution_count": 16,
   "metadata": {},
   "outputs": [],
   "source": [
    "def recommendations(name, cosine_sim=cosine_sim):\n",
    "    #INPUT A SONG RETURN\n",
    "    name = name.lower()\n",
    "    idx = indices[indices == name].index[0]\n",
    "    print(songs_1980s_up.iloc[idx][0])\n",
    "    similarity_scores = list(enumerate(cosine_sim[idx]))\n",
    "    similarity_scores = sorted(similarity_scores, key=lambda x: x[1], reverse=True)\n",
    "    similarity_scores = similarity_scores[1:6]\n",
    "    \n",
    "    songs_index = [i[0] for i in similarity_scores]\n",
    "    \n",
    "    return songs_1980s_up.iloc[songs_index, [0]]"
   ]
  },
  {
   "cell_type": "code",
   "execution_count": 17,
   "metadata": {},
   "outputs": [],
   "source": [
    "#recommendations('One Time', cosine_sim)"
   ]
  },
  {
   "cell_type": "code",
   "execution_count": 18,
   "metadata": {},
   "outputs": [],
   "source": [
    "import warnings\n",
    "warnings.filterwarnings('ignore')\n",
    "\n",
    "import ipywidgets as widgets\n",
    "from IPython.display import display, clear_output"
   ]
  },
  {
   "cell_type": "code",
   "execution_count": 19,
   "metadata": {},
   "outputs": [],
   "source": [
    "#!jupyter nbextension enable --py widgetsnbextension --sys-prefix\n",
    "#!jupyter serverextension enable voila --sys-prefix"
   ]
  },
  {
   "cell_type": "code",
   "execution_count": 20,
   "metadata": {},
   "outputs": [],
   "source": [
    "song_name = widgets.Text(placeholder='Please enter a song')"
   ]
  },
  {
   "cell_type": "code",
   "execution_count": 21,
   "metadata": {},
   "outputs": [],
   "source": [
    "get_top_5 = widgets.Button(\n",
    "                description='Find recommended songs',\n",
    "                tooltip='Find Song',\n",
    "                style={'description_width': 'intitial'}\n",
    "            )\n",
    "output = widgets.Output()\n",
    "\n",
    "def on_button_clicked(event):\n",
    "    with output:\n",
    "        clear_output()\n",
    "        top_5 = recommendations(str(song_name.value), cosine_sim)\n",
    "        top_5.reset_index(inplace=True)\n",
    "        print(f'Here are the top 5 recommended songs for {song_name.value}')\n",
    "        print(top_5)\n",
    "        \n",
    "get_top_5.on_click(on_button_clicked)\n",
    "\n",
    "vbox_result = widgets.VBox([get_top_5, output])"
   ]
  },
  {
   "cell_type": "code",
   "execution_count": 22,
   "metadata": {},
   "outputs": [],
   "source": [
    "text_0 = widgets.HTML(value='<h1>Jacob\\'s Jukebox<h1>')\n",
    "text_1 = widgets.HTML(value='<h2>Enter in a song to find the top 5 recommended songs!')\n",
    "\n",
    "vbox_text = widgets.VBox([text_0, text_1,song_name, vbox_result])"
   ]
  },
  {
   "cell_type": "code",
   "execution_count": 23,
   "metadata": {
    "scrolled": false
   },
   "outputs": [
    {
     "data": {
      "application/vnd.jupyter.widget-view+json": {
       "model_id": "313935f57ec14155a75ac066df9db7e8",
       "version_major": 2,
       "version_minor": 0
      },
      "text/plain": [
       "HBox(children=(VBox(children=(HTML(value=\"<h1>Jacob's Jukebox<h1>\"), HTML(value='<h2>Enter in a song to find t…"
      ]
     },
     "metadata": {},
     "output_type": "display_data"
    }
   ],
   "source": [
    "page = widgets.HBox([vbox_text])\n",
    "display(page)"
   ]
  },
  {
   "cell_type": "code",
   "execution_count": null,
   "metadata": {},
   "outputs": [],
   "source": []
  },
  {
   "cell_type": "code",
   "execution_count": null,
   "metadata": {},
   "outputs": [],
   "source": [
    "\n"
   ]
  },
  {
   "cell_type": "code",
   "execution_count": null,
   "metadata": {},
   "outputs": [],
   "source": []
  }
 ],
 "metadata": {
  "kernelspec": {
   "display_name": "Python 3",
   "language": "python",
   "name": "python3"
  },
  "language_info": {
   "codemirror_mode": {
    "name": "ipython",
    "version": 3
   },
   "file_extension": ".py",
   "mimetype": "text/x-python",
   "name": "python",
   "nbconvert_exporter": "python",
   "pygments_lexer": "ipython3",
   "version": "3.8.8"
  }
 },
 "nbformat": 4,
 "nbformat_minor": 4
}
